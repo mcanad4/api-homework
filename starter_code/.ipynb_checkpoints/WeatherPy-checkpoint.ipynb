{
 "cells": [
  {
   "cell_type": "markdown",
   "metadata": {},
   "source": [
    "# WeatherPy\n",
    "----\n",
    "\n",
    "#### Note\n",
    "* Instructions have been included for each segment. You do not have to follow them exactly, but they are included to help you think through the steps."
   ]
  },
  {
   "cell_type": "code",
   "execution_count": 4,
   "metadata": {},
   "outputs": [
    {
     "name": "stdout",
     "output_type": "stream",
     "text": [
      "Collecting citipy\n",
      "  Downloading citipy-0.0.5.tar.gz (557 kB)\n",
      "Collecting kdtree>=0.12\n",
      "  Downloading kdtree-0.16-py2.py3-none-any.whl (7.7 kB)\n",
      "Building wheels for collected packages: citipy\n",
      "  Building wheel for citipy (setup.py): started\n",
      "  Building wheel for citipy (setup.py): finished with status 'done'\n",
      "  Created wheel for citipy: filename=citipy-0.0.5-py3-none-any.whl size=559704 sha256=59608d839a85644b8a8bbff0028ff3b693c71de1fc667d96a932606941ba1f53\n",
      "  Stored in directory: c:\\users\\mcanady\\appdata\\local\\pip\\cache\\wheels\\6d\\df\\5e\\ad8eb9cc5ee7f4ba76865167c09f9a7edff405c669111d8353\n",
      "Successfully built citipy\n",
      "Installing collected packages: kdtree, citipy\n",
      "Successfully installed citipy-0.0.5 kdtree-0.16\n",
      "Note: you may need to restart the kernel to use updated packages.\n"
     ]
    }
   ],
   "source": [
    "pip install citipy"
   ]
  },
  {
   "cell_type": "code",
   "execution_count": 2,
   "metadata": {
    "scrolled": true
   },
   "outputs": [],
   "source": [
    "# Dependencies and Setup\n",
    "import matplotlib.pyplot as plt\n",
    "import pandas as pd\n",
    "import numpy as np\n",
    "import requests\n",
    "import time\n",
    "from scipy.stats import linregress\n",
    "from scipy import stats\n",
    "from pprint import pprint\n",
    "\n",
    "# Import API key\n",
    "from api_keys import weather_api_key\n",
    "\n",
    "# Incorporated citipy to determine city based on latitude and longitude\n",
    "from citipy import citipy\n",
    "\n",
    "# Output File (CSV)\n",
    "output_data_file = \"output_data/cities.csv\"\n",
    "\n",
    "# Range of latitudes and longitudes\n",
    "lat_range = (-90, 90)\n",
    "lng_range = (-180, 180)"
   ]
  },
  {
   "cell_type": "markdown",
   "metadata": {},
   "source": [
    "## Generate Cities List"
   ]
  },
  {
   "cell_type": "code",
   "execution_count": 3,
   "metadata": {},
   "outputs": [
    {
     "name": "stdout",
     "output_type": "stream",
     "text": [
      "617\n"
     ]
    }
   ],
   "source": [
    "# List for holding lat_lngs and cities\n",
    "lat_lngs = []\n",
    "cities = []\n",
    "\n",
    "# Create a set of random lat and lng combinations\n",
    "lats = np.random.uniform(lat_range[0], lat_range[1], size=1500)\n",
    "lngs = np.random.uniform(lng_range[0], lng_range[1], size=1500)\n",
    "lat_lngs = zip(lats, lngs)\n",
    "\n",
    "# Identify nearest city for each lat, lng combination\n",
    "for lat_lng in lat_lngs:\n",
    "    city = citipy.nearest_city(lat_lng[0], lat_lng[1]).city_name\n",
    "    \n",
    "    # If the city is unique, then add it to a our cities list\n",
    "    if city not in cities:\n",
    "        cities.append(city)\n",
    "\n",
    "# Print the city count to confirm sufficient count\n",
    "print(len(cities))"
   ]
  },
  {
   "cell_type": "markdown",
   "metadata": {},
   "source": [
    "### Perform API Calls\n",
    "* Perform a weather check on each city using a series of successive API calls.\n",
    "* Include a print log of each city as it'sbeing processed (with the city number and city name).\n"
   ]
  },
  {
   "cell_type": "code",
   "execution_count": 4,
   "metadata": {},
   "outputs": [],
   "source": [
    "# Save config information.\n",
    "url = \"http://api.openweathermap.org/data/2.5/weather?\"\n",
    "units = \"imperial\"\n",
    "\n",
    "# Build partial query URL\n",
    "query_url = f\"{url}appid={weather_api_key}&units={units}&q=\""
   ]
  },
  {
   "cell_type": "code",
   "execution_count": 5,
   "metadata": {},
   "outputs": [],
   "source": [
    "# test code to review output\n",
    "test_city = 'indianapolis'\n",
    "response = requests.get(query_url + test_city).json()"
   ]
  },
  {
   "cell_type": "code",
   "execution_count": 6,
   "metadata": {},
   "outputs": [
    {
     "name": "stdout",
     "output_type": "stream",
     "text": [
      "Processing Record 1 of Set 1 | punta arenas\n",
      "Processing Record 2 of Set 1 | castro\n",
      "Processing Record 3 of Set 1 | yumen\n",
      "Processing Record 4 of Set 1 | kaitangata\n",
      "Processing Record 5 of Set 1 | kloulklubed\n",
      "Processing Record 6 of Set 1 | kodiak\n",
      "Processing Record 7 of Set 1 | vaini\n",
      "Processing Record 8 of Set 1 | mahebourg\n",
      "Processing Record 9 of Set 1 | rikitea\n",
      "Processing Record 10 of Set 1 | great falls\n",
      "Processing Record 11 of Set 1 | boddam\n",
      "Processing Record 12 of Set 1 | hithadhoo\n",
      "Processing Record 13 of Set 1 | saint anthony\n",
      "Processing Record 14 of Set 1 | cayenne\n",
      "Processing Record 15 of Set 1 | atuona\n",
      "Processing Record 16 of Set 1 | bluff\n",
      "Processing Record 17 of Set 1 | sibolga\n",
      "Processing Record 18 of Set 1 | sambava\n",
      "Processing Record 19 of Set 1 | msanga\n",
      "Processing Record 20 of Set 1 | port blair\n",
      "Processing Record 21 of Set 1 | tasiilaq\n",
      "Processing Record 22 of Set 1 | barrow\n",
      "Processing Record 23 of Set 1 | vila velha\n",
      "Processing Record 24 of Set 1 | luderitz\n",
      "City not found. Skipping...\n",
      "Processing Record 26 of Set 1 | pevek\n",
      "Processing Record 27 of Set 1 | gazli\n",
      "Processing Record 28 of Set 1 | ushuaia\n",
      "Processing Record 29 of Set 1 | guasdualito\n",
      "City not found. Skipping...\n",
      "Processing Record 31 of Set 1 | albany\n",
      "Processing Record 32 of Set 1 | provideniya\n",
      "Processing Record 33 of Set 1 | verdun\n",
      "Processing Record 34 of Set 1 | busselton\n",
      "Processing Record 35 of Set 1 | rexburg\n",
      "Processing Record 36 of Set 1 | kostomuksha\n",
      "Processing Record 37 of Set 1 | ponta do sol\n",
      "Processing Record 38 of Set 1 | lebu\n",
      "City not found. Skipping...\n",
      "Processing Record 40 of Set 1 | mataura\n",
      "Processing Record 41 of Set 1 | new norfolk\n",
      "Processing Record 42 of Set 1 | porlamar\n",
      "Processing Record 43 of Set 1 | okato\n",
      "Processing Record 44 of Set 1 | campo grande\n",
      "Processing Record 45 of Set 1 | half moon bay\n",
      "Processing Record 46 of Set 1 | cape town\n",
      "Processing Record 47 of Set 1 | gunnedah\n",
      "Processing Record 48 of Set 1 | puerto ayora\n",
      "Processing Record 49 of Set 1 | tuktoyaktuk\n",
      "Processing Record 50 of Set 1 | belmonte\n",
      "Processing Record 51 of Set 1 | tiksi\n",
      "Processing Record 52 of Set 1 | severo-kurilsk\n",
      "Processing Record 53 of Set 1 | rio grande\n",
      "Processing Record 54 of Set 1 | torbay\n",
      "Processing Record 55 of Set 1 | vila franca do campo\n",
      "Processing Record 56 of Set 1 | sarkikaraagac\n",
      "Processing Record 57 of Set 1 | tchibanga\n",
      "Processing Record 58 of Set 1 | dikson\n",
      "Processing Record 59 of Set 1 | esperance\n",
      "Processing Record 60 of Set 1 | el sauce\n",
      "Processing Record 61 of Set 1 | cidreira\n",
      "Processing Record 62 of Set 1 | cherskiy\n",
      "Processing Record 63 of Set 1 | fortuna\n",
      "Processing Record 64 of Set 1 | berlevag\n",
      "Processing Record 65 of Set 1 | kapaa\n",
      "Processing Record 66 of Set 1 | san cosme y damian\n",
      "Processing Record 67 of Set 1 | lagoa\n",
      "Processing Record 68 of Set 1 | porto nacional\n",
      "Processing Record 69 of Set 1 | yellowknife\n",
      "Processing Record 70 of Set 1 | leningradskiy\n",
      "Processing Record 71 of Set 1 | taltal\n",
      "Processing Record 72 of Set 1 | manaia\n",
      "Processing Record 73 of Set 1 | bani walid\n",
      "Processing Record 74 of Set 1 | thompson\n",
      "Processing Record 75 of Set 1 | yibin\n",
      "Processing Record 76 of Set 1 | lagos\n",
      "Processing Record 77 of Set 1 | beringovskiy\n",
      "Processing Record 78 of Set 1 | bethel\n",
      "Processing Record 79 of Set 1 | georgetown\n",
      "Processing Record 80 of Set 1 | sola\n",
      "Processing Record 81 of Set 1 | shizunai\n",
      "Processing Record 82 of Set 1 | akureyri\n",
      "Processing Record 83 of Set 1 | shakawe\n",
      "Processing Record 84 of Set 1 | chuy\n",
      "Processing Record 85 of Set 1 | saint-ambroise\n",
      "Processing Record 86 of Set 1 | jamestown\n",
      "Processing Record 87 of Set 1 | deputatskiy\n",
      "Processing Record 88 of Set 1 | eureka\n",
      "City not found. Skipping...\n",
      "Processing Record 90 of Set 1 | coffs harbour\n",
      "Processing Record 91 of Set 1 | chivay\n",
      "Processing Record 92 of Set 1 | gondar\n",
      "Processing Record 93 of Set 1 | saskylakh\n",
      "Processing Record 94 of Set 1 | griffith\n",
      "Processing Record 95 of Set 1 | jalu\n",
      "Processing Record 96 of Set 1 | santiago de cao\n",
      "Processing Record 97 of Set 1 | ilhabela\n",
      "Processing Record 98 of Set 1 | lerwick\n",
      "Processing Record 99 of Set 1 | hobart\n",
      "Processing Record 100 of Set 1 | sitka\n",
      "Processing Record 101 of Set 1 | hermanus\n",
      "Processing Record 102 of Set 1 | lompoc\n",
      "Processing Record 103 of Set 1 | port alfred\n",
      "Processing Record 104 of Set 1 | east london\n",
      "City not found. Skipping...\n",
      "Processing Record 106 of Set 1 | phalodi\n",
      "Processing Record 107 of Set 1 | arraial do cabo\n",
      "Processing Record 108 of Set 1 | avarua\n",
      "Processing Record 109 of Set 1 | umm kaddadah\n",
      "Processing Record 110 of Set 1 | morro bay\n",
      "Processing Record 111 of Set 1 | noshiro\n",
      "Processing Record 112 of Set 1 | geraldton\n",
      "Processing Record 113 of Set 1 | mar del plata\n",
      "Processing Record 114 of Set 1 | nenjiang\n",
      "Processing Record 115 of Set 1 | araouane\n",
      "Processing Record 116 of Set 1 | saint-georges\n",
      "Processing Record 117 of Set 1 | portland\n",
      "Processing Record 118 of Set 1 | bahia honda\n",
      "Processing Record 119 of Set 1 | nouadhibou\n",
      "Processing Record 120 of Set 1 | kampot\n",
      "Processing Record 121 of Set 1 | salalah\n",
      "Processing Record 122 of Set 1 | sterling\n",
      "Processing Record 123 of Set 1 | roald\n",
      "Processing Record 124 of Set 1 | ulkan\n",
      "City not found. Skipping...\n",
      "Processing Record 126 of Set 1 | kruisfontein\n",
      "Processing Record 127 of Set 1 | olden\n",
      "City not found. Skipping...\n",
      "Processing Record 129 of Set 1 | san patricio\n",
      "Processing Record 130 of Set 1 | san cristobal\n",
      "Processing Record 131 of Set 1 | samur\n",
      "City not found. Skipping...\n",
      "City not found. Skipping...\n",
      "Processing Record 134 of Set 1 | labuhan\n",
      "Processing Record 135 of Set 1 | caceres\n",
      "Processing Record 136 of Set 1 | domazlice\n",
      "Processing Record 137 of Set 1 | ilabaya\n",
      "Processing Record 138 of Set 1 | aykhal\n",
      "Processing Record 139 of Set 1 | faya\n",
      "City not found. Skipping...\n",
      "Processing Record 141 of Set 1 | golden\n",
      "Processing Record 142 of Set 1 | saldanha\n",
      "Processing Record 143 of Set 1 | ribeira grande\n",
      "Processing Record 144 of Set 1 | chokurdakh\n",
      "Processing Record 145 of Set 1 | orkeny\n",
      "Processing Record 146 of Set 1 | vredendal\n",
      "Processing Record 147 of Set 1 | kavieng\n",
      "Processing Record 148 of Set 1 | lavrentiya\n",
      "Processing Record 149 of Set 1 | kamenka\n",
      "Processing Record 150 of Set 1 | ust-kuyga\n",
      "Processing Record 151 of Set 1 | touros\n",
      "Processing Record 152 of Set 1 | castro verde\n",
      "Processing Record 153 of Set 1 | skjervoy\n",
      "Processing Record 154 of Set 1 | nambucca heads\n",
      "City not found. Skipping...\n",
      "Processing Record 156 of Set 1 | bredasdorp\n",
      "Processing Record 157 of Set 1 | biltine\n",
      "Processing Record 158 of Set 1 | dabola\n",
      "Processing Record 159 of Set 1 | saint-philippe\n",
      "Processing Record 160 of Set 1 | puerto del rosario\n",
      "Processing Record 161 of Set 1 | vanavara\n",
      "Processing Record 162 of Set 1 | candolim\n",
      "Processing Record 163 of Set 1 | coihaique\n",
      "Processing Record 164 of Set 1 | la asuncion\n",
      "Processing Record 165 of Set 1 | qaanaaq\n",
      "Processing Record 166 of Set 1 | ushtobe\n",
      "Processing Record 167 of Set 1 | marsaxlokk\n",
      "Processing Record 168 of Set 1 | kununurra\n",
      "Processing Record 169 of Set 1 | aklavik\n",
      "Processing Record 170 of Set 1 | carnarvon\n",
      "Processing Record 171 of Set 1 | gombe\n",
      "Processing Record 172 of Set 1 | kedrovyy\n",
      "Processing Record 173 of Set 1 | cache creek\n",
      "Processing Record 174 of Set 1 | chambishi\n",
      "Processing Record 175 of Set 1 | airai\n",
      "Processing Record 176 of Set 1 | ucluelet\n",
      "Processing Record 177 of Set 1 | hilo\n",
      "Processing Record 178 of Set 1 | leopold\n",
      "Processing Record 179 of Set 1 | ilulissat\n",
      "Processing Record 180 of Set 1 | springbok\n",
      "Processing Record 181 of Set 1 | trincomalee\n",
      "Processing Record 182 of Set 1 | srednekolymsk\n",
      "Processing Record 183 of Set 1 | narsaq\n",
      "Processing Record 184 of Set 1 | khatanga\n",
      "Processing Record 185 of Set 1 | upernavik\n",
      "Processing Record 186 of Set 1 | anadyr\n",
      "Processing Record 187 of Set 1 | russell\n",
      "City not found. Skipping...\n",
      "Processing Record 189 of Set 1 | rokytne\n",
      "Processing Record 190 of Set 1 | butaritari\n",
      "Processing Record 191 of Set 1 | miri\n",
      "Processing Record 192 of Set 1 | komsomolskiy\n",
      "Processing Record 193 of Set 1 | victoria\n",
      "Processing Record 194 of Set 1 | ca mau\n",
      "City not found. Skipping...\n",
      "Processing Record 196 of Set 1 | tura\n",
      "Processing Record 197 of Set 1 | sidi ali\n",
      "Processing Record 198 of Set 1 | ende\n",
      "Processing Record 199 of Set 1 | rodeo\n",
      "Processing Record 200 of Set 1 | ranong\n"
     ]
    },
    {
     "name": "stdout",
     "output_type": "stream",
     "text": [
      "Processing Record 201 of Set 1 | sochi\n",
      "Processing Record 202 of Set 1 | muyuka\n",
      "Processing Record 203 of Set 1 | praia\n",
      "Processing Record 204 of Set 1 | tsiroanomandidy\n",
      "Processing Record 205 of Set 1 | sandur\n",
      "Processing Record 206 of Set 1 | grindavik\n",
      "Processing Record 207 of Set 1 | klaksvik\n",
      "Processing Record 208 of Set 1 | clyde river\n",
      "Processing Record 209 of Set 1 | salym\n",
      "City not found. Skipping...\n",
      "Processing Record 211 of Set 1 | kurumkan\n",
      "Processing Record 212 of Set 1 | macklin\n",
      "Processing Record 213 of Set 1 | comodoro rivadavia\n",
      "City not found. Skipping...\n",
      "Processing Record 215 of Set 1 | acapulco\n",
      "City not found. Skipping...\n",
      "Processing Record 217 of Set 1 | taoudenni\n",
      "Processing Record 218 of Set 1 | avera\n",
      "Processing Record 219 of Set 1 | alta floresta\n",
      "Processing Record 220 of Set 1 | nikolskoye\n",
      "City not found. Skipping...\n",
      "Processing Record 222 of Set 1 | santa\n",
      "Processing Record 223 of Set 1 | te anau\n",
      "Processing Record 224 of Set 1 | yaan\n",
      "Processing Record 225 of Set 1 | atar\n",
      "Processing Record 226 of Set 1 | sorland\n",
      "Processing Record 227 of Set 1 | souillac\n",
      "City not found. Skipping...\n",
      "Processing Record 229 of Set 1 | seminole\n",
      "Processing Record 230 of Set 1 | koslan\n",
      "Processing Record 231 of Set 1 | tornio\n",
      "Processing Record 232 of Set 1 | ewa beach\n",
      "Processing Record 233 of Set 1 | evensk\n",
      "Processing Record 234 of Set 1 | cabo san lucas\n",
      "City not found. Skipping...\n",
      "Processing Record 236 of Set 1 | bathsheba\n",
      "Processing Record 237 of Set 1 | chibombo\n",
      "Processing Record 238 of Set 1 | buraydah\n",
      "Processing Record 239 of Set 1 | kainantu\n",
      "Processing Record 240 of Set 1 | naron\n",
      "Processing Record 241 of Set 1 | ternate\n",
      "Processing Record 242 of Set 1 | chicama\n",
      "Processing Record 243 of Set 1 | denpasar\n",
      "Processing Record 244 of Set 1 | sinnamary\n",
      "Processing Record 245 of Set 1 | karratha\n",
      "Processing Record 246 of Set 1 | fort nelson\n",
      "Processing Record 247 of Set 1 | oyem\n",
      "Processing Record 248 of Set 1 | el tigre\n",
      "Processing Record 249 of Set 1 | belawan\n",
      "Processing Record 250 of Set 1 | narrabri\n",
      "City not found. Skipping...\n",
      "Processing Record 252 of Set 1 | phalaborwa\n",
      "Processing Record 253 of Set 1 | creel\n",
      "Processing Record 254 of Set 1 | vardo\n",
      "City not found. Skipping...\n",
      "Processing Record 256 of Set 1 | irtyshskiy\n",
      "Processing Record 257 of Set 1 | mountain home\n",
      "Processing Record 258 of Set 1 | port elizabeth\n",
      "Processing Record 259 of Set 1 | mitsamiouli\n",
      "Processing Record 260 of Set 1 | mount gambier\n",
      "Processing Record 261 of Set 1 | hambantota\n",
      "Processing Record 262 of Set 1 | hasaki\n",
      "City not found. Skipping...\n",
      "Processing Record 264 of Set 1 | codrington\n",
      "Processing Record 265 of Set 1 | okhotsk\n",
      "Processing Record 266 of Set 1 | lorengau\n",
      "Processing Record 267 of Set 1 | clearlake\n",
      "Processing Record 268 of Set 1 | soyo\n",
      "City not found. Skipping...\n",
      "City not found. Skipping...\n",
      "Processing Record 271 of Set 1 | kahului\n",
      "Processing Record 272 of Set 1 | durban\n",
      "Processing Record 273 of Set 1 | vao\n",
      "Processing Record 274 of Set 1 | upata\n",
      "Processing Record 275 of Set 1 | copacabana\n",
      "Processing Record 276 of Set 1 | segezha\n",
      "City not found. Skipping...\n",
      "Processing Record 278 of Set 1 | muisne\n",
      "Processing Record 279 of Set 1 | kutum\n",
      "Processing Record 280 of Set 1 | longyearbyen\n",
      "Processing Record 281 of Set 1 | belle fourche\n",
      "Processing Record 282 of Set 1 | wladyslawowo\n",
      "Processing Record 283 of Set 1 | pitimbu\n",
      "Processing Record 284 of Set 1 | port augusta\n",
      "City not found. Skipping...\n",
      "Processing Record 286 of Set 1 | goderich\n",
      "Processing Record 287 of Set 1 | ballina\n",
      "Processing Record 288 of Set 1 | chapais\n",
      "Processing Record 289 of Set 1 | haines junction\n",
      "Processing Record 290 of Set 1 | georgiyevka\n",
      "Processing Record 291 of Set 1 | trogir\n",
      "Processing Record 292 of Set 1 | hokitika\n",
      "Processing Record 293 of Set 1 | normandin\n",
      "Processing Record 294 of Set 1 | turbat\n",
      "Processing Record 295 of Set 1 | mumbwa\n",
      "City not found. Skipping...\n",
      "Processing Record 297 of Set 1 | chunoyar\n",
      "Processing Record 298 of Set 1 | ahipara\n",
      "Processing Record 299 of Set 1 | la libertad\n",
      "Processing Record 300 of Set 1 | nanhai\n",
      "Processing Record 301 of Set 1 | marquette\n",
      "City not found. Skipping...\n",
      "Processing Record 303 of Set 1 | orangeburg\n",
      "Processing Record 304 of Set 1 | salisbury\n",
      "Processing Record 305 of Set 1 | umarkot\n",
      "Processing Record 306 of Set 1 | suntar\n",
      "Processing Record 307 of Set 1 | alghero\n",
      "Processing Record 308 of Set 1 | matao\n",
      "Processing Record 309 of Set 1 | sangerhausen\n",
      "Processing Record 310 of Set 1 | ambovombe\n",
      "City not found. Skipping...\n",
      "Processing Record 312 of Set 1 | egvekinot\n",
      "Processing Record 313 of Set 1 | margate\n",
      "Processing Record 314 of Set 1 | fairbanks\n",
      "Processing Record 315 of Set 1 | kumeny\n",
      "Processing Record 316 of Set 1 | vestmannaeyjar\n",
      "Processing Record 317 of Set 1 | gandhidham\n",
      "Processing Record 318 of Set 1 | mareeba\n",
      "Processing Record 319 of Set 1 | inuvik\n",
      "Processing Record 320 of Set 1 | dalmatovo\n",
      "Processing Record 321 of Set 1 | blagoyevo\n",
      "Processing Record 322 of Set 1 | pangnirtung\n",
      "Processing Record 323 of Set 1 | zhicheng\n",
      "Processing Record 324 of Set 1 | iwanai\n",
      "Processing Record 325 of Set 1 | pisco\n",
      "Processing Record 326 of Set 1 | bubaque\n",
      "City not found. Skipping...\n",
      "Processing Record 328 of Set 1 | peace river\n",
      "Processing Record 329 of Set 1 | miles city\n",
      "Processing Record 330 of Set 1 | najran\n",
      "Processing Record 331 of Set 1 | nago\n",
      "Processing Record 332 of Set 1 | kuusamo\n",
      "Processing Record 333 of Set 1 | ancud\n",
      "Processing Record 334 of Set 1 | dingle\n",
      "City not found. Skipping...\n",
      "Processing Record 336 of Set 1 | brae\n",
      "Processing Record 337 of Set 1 | grand island\n",
      "Processing Record 338 of Set 1 | breyten\n",
      "Processing Record 339 of Set 1 | mizdah\n",
      "Processing Record 340 of Set 1 | tanout\n",
      "City not found. Skipping...\n",
      "Processing Record 342 of Set 1 | kongolo\n",
      "Processing Record 343 of Set 1 | hlotse\n",
      "Processing Record 344 of Set 1 | carauari\n",
      "Processing Record 345 of Set 1 | lancaster\n",
      "Processing Record 346 of Set 1 | bambous virieux\n",
      "City not found. Skipping...\n",
      "Processing Record 348 of Set 1 | catamarca\n",
      "Processing Record 349 of Set 1 | yarqa\n",
      "Processing Record 350 of Set 1 | bell ville\n",
      "Processing Record 351 of Set 1 | ndola\n",
      "Processing Record 352 of Set 1 | dongsheng\n",
      "Processing Record 353 of Set 1 | yarada\n",
      "Processing Record 354 of Set 1 | george town\n",
      "Processing Record 355 of Set 1 | russkaya polyana\n",
      "Processing Record 356 of Set 1 | beruwala\n",
      "Processing Record 357 of Set 1 | manthani\n",
      "Processing Record 358 of Set 1 | tonj\n",
      "Processing Record 359 of Set 1 | jerantut\n",
      "Processing Record 360 of Set 1 | orebro\n",
      "Processing Record 361 of Set 1 | zlobin\n",
      "Processing Record 362 of Set 1 | edmundston\n",
      "Processing Record 363 of Set 1 | pacific grove\n",
      "Processing Record 364 of Set 1 | hofn\n",
      "Processing Record 365 of Set 1 | dhidhdhoo\n",
      "Processing Record 366 of Set 1 | atikokan\n",
      "Processing Record 367 of Set 1 | weatherford\n",
      "City not found. Skipping...\n",
      "Processing Record 369 of Set 1 | isangel\n",
      "Processing Record 370 of Set 1 | saint george\n",
      "Processing Record 371 of Set 1 | newnan\n",
      "City not found. Skipping...\n",
      "Processing Record 373 of Set 1 | ixtapa\n",
      "Processing Record 374 of Set 1 | salina cruz\n",
      "Processing Record 375 of Set 1 | kataysk\n",
      "Processing Record 376 of Set 1 | bystryy istok\n",
      "City not found. Skipping...\n",
      "Processing Record 378 of Set 1 | svetlaya\n",
      "Processing Record 379 of Set 1 | coari\n",
      "Processing Record 380 of Set 1 | newport\n",
      "Processing Record 381 of Set 1 | dunedin\n",
      "Processing Record 382 of Set 1 | moose factory\n",
      "Processing Record 383 of Set 1 | anage\n",
      "Processing Record 384 of Set 1 | tuatapere\n",
      "Processing Record 385 of Set 1 | sao filipe\n",
      "Processing Record 386 of Set 1 | kavaratti\n",
      "Processing Record 387 of Set 1 | skibbereen\n",
      "Processing Record 388 of Set 1 | waipawa\n",
      "City not found. Skipping...\n",
      "Processing Record 390 of Set 1 | at-bashi\n",
      "Processing Record 391 of Set 1 | beira\n",
      "Processing Record 392 of Set 1 | porto novo\n",
      "Processing Record 393 of Set 1 | kieta\n",
      "Processing Record 394 of Set 1 | jining\n",
      "Processing Record 395 of Set 1 | brownsville\n",
      "Processing Record 396 of Set 1 | elizabeth city\n",
      "Processing Record 397 of Set 1 | necochea\n",
      "Processing Record 398 of Set 1 | walvis bay\n",
      "Processing Record 399 of Set 1 | san quintin\n",
      "Processing Record 400 of Set 1 | derzhavinsk\n",
      "Processing Record 401 of Set 1 | lingao\n",
      "Processing Record 402 of Set 1 | balkanabat\n",
      "Processing Record 403 of Set 1 | padang\n"
     ]
    },
    {
     "name": "stdout",
     "output_type": "stream",
     "text": [
      "Processing Record 404 of Set 1 | auki\n",
      "Processing Record 405 of Set 1 | kamaishi\n",
      "Processing Record 406 of Set 1 | mazagao\n",
      "Processing Record 407 of Set 1 | grand gaube\n",
      "Processing Record 408 of Set 1 | karaton\n",
      "Processing Record 409 of Set 1 | bend\n",
      "Processing Record 410 of Set 1 | pinawa\n",
      "Processing Record 411 of Set 1 | algeciras\n",
      "Processing Record 412 of Set 1 | norman wells\n",
      "Processing Record 413 of Set 1 | maiduguri\n",
      "Processing Record 414 of Set 1 | fukue\n",
      "Processing Record 415 of Set 1 | katsuura\n",
      "Processing Record 416 of Set 1 | suez\n",
      "City not found. Skipping...\n",
      "City not found. Skipping...\n",
      "Processing Record 419 of Set 1 | takhtamygda\n",
      "Processing Record 420 of Set 1 | sao sebastiao\n",
      "Processing Record 421 of Set 1 | iisalmi\n",
      "Processing Record 422 of Set 1 | college\n",
      "Processing Record 423 of Set 1 | naze\n",
      "Processing Record 424 of Set 1 | bereda\n",
      "Processing Record 425 of Set 1 | los llanos de aridane\n",
      "Processing Record 426 of Set 1 | muravlenko\n",
      "Processing Record 427 of Set 1 | torbat-e jam\n",
      "Processing Record 428 of Set 1 | magadan\n",
      "Processing Record 429 of Set 1 | kralendijk\n",
      "Processing Record 430 of Set 1 | alofi\n",
      "Processing Record 431 of Set 1 | wanaka\n",
      "Processing Record 432 of Set 1 | rio claro\n",
      "Processing Record 433 of Set 1 | hamilton\n",
      "Processing Record 434 of Set 1 | szubin\n",
      "Processing Record 435 of Set 1 | trinidad\n",
      "Processing Record 436 of Set 1 | henties bay\n",
      "Processing Record 437 of Set 1 | vestmanna\n",
      "Processing Record 438 of Set 1 | madingou\n",
      "Processing Record 439 of Set 1 | lazaro cardenas\n",
      "Processing Record 440 of Set 1 | ganzhou\n",
      "Processing Record 441 of Set 1 | faanui\n",
      "Processing Record 442 of Set 1 | iqaluit\n",
      "Processing Record 443 of Set 1 | toamasina\n",
      "Processing Record 444 of Set 1 | arroyo\n",
      "Processing Record 445 of Set 1 | monticello\n",
      "Processing Record 446 of Set 1 | bull savanna\n",
      "Processing Record 447 of Set 1 | princeton\n",
      "Processing Record 448 of Set 1 | olafsvik\n",
      "Processing Record 449 of Set 1 | la ronge\n",
      "Processing Record 450 of Set 1 | mahajanga\n",
      "City not found. Skipping...\n",
      "Processing Record 452 of Set 1 | pesca\n",
      "Processing Record 453 of Set 1 | launceston\n",
      "Processing Record 454 of Set 1 | malkara\n",
      "Processing Record 455 of Set 1 | alibag\n",
      "Processing Record 456 of Set 1 | beisfjord\n",
      "Processing Record 457 of Set 1 | fort saint james\n",
      "Processing Record 458 of Set 1 | chupa\n",
      "City not found. Skipping...\n",
      "Processing Record 460 of Set 1 | jahanabad\n",
      "Processing Record 461 of Set 1 | murud\n",
      "Processing Record 462 of Set 1 | charlestown\n",
      "Processing Record 463 of Set 1 | yulara\n",
      "Processing Record 464 of Set 1 | kyaikkami\n",
      "City not found. Skipping...\n",
      "Processing Record 466 of Set 1 | kailua\n",
      "Processing Record 467 of Set 1 | alice springs\n",
      "Processing Record 468 of Set 1 | komsomolskoye\n",
      "Processing Record 469 of Set 1 | pandan niog\n",
      "City not found. Skipping...\n",
      "Processing Record 471 of Set 1 | lalmohan\n",
      "Processing Record 472 of Set 1 | ibimirim\n",
      "Processing Record 473 of Set 1 | hobyo\n",
      "Processing Record 474 of Set 1 | forio\n",
      "Processing Record 475 of Set 1 | ratholo\n",
      "Processing Record 476 of Set 1 | sao miguel do araguaia\n",
      "Processing Record 477 of Set 1 | coahuayana\n",
      "City not found. Skipping...\n",
      "Processing Record 479 of Set 1 | kasane\n",
      "Processing Record 480 of Set 1 | pitea\n",
      "Processing Record 481 of Set 1 | etchoropo\n",
      "Processing Record 482 of Set 1 | lasa\n",
      "Processing Record 483 of Set 1 | vorotynets\n",
      "Processing Record 484 of Set 1 | kulhudhuffushi\n",
      "Processing Record 485 of Set 1 | vostok\n",
      "Processing Record 486 of Set 1 | constitucion\n",
      "Processing Record 487 of Set 1 | maraba\n",
      "Processing Record 488 of Set 1 | coquimbo\n",
      "Processing Record 489 of Set 1 | tygda\n",
      "Processing Record 490 of Set 1 | hovd\n",
      "Processing Record 491 of Set 1 | xixiang\n",
      "Processing Record 492 of Set 1 | barra patuca\n",
      "Processing Record 493 of Set 1 | gat\n",
      "Processing Record 494 of Set 1 | westport\n",
      "Processing Record 495 of Set 1 | moussoro\n",
      "Processing Record 496 of Set 1 | wajima\n",
      "Processing Record 497 of Set 1 | lovozero\n",
      "Processing Record 498 of Set 1 | san alberto\n",
      "Processing Record 499 of Set 1 | moranbah\n",
      "Processing Record 500 of Set 1 | roswell\n",
      "Processing Record 501 of Set 1 | guerrero negro\n",
      "Processing Record 502 of Set 1 | tiffin\n",
      "Processing Record 503 of Set 1 | paamiut\n",
      "Processing Record 504 of Set 1 | brive-la-gaillarde\n",
      "Processing Record 505 of Set 1 | sura\n",
      "Processing Record 506 of Set 1 | ailigandi\n",
      "Processing Record 507 of Set 1 | aswan\n",
      "Processing Record 508 of Set 1 | puqi\n",
      "Processing Record 509 of Set 1 | milkovo\n",
      "Processing Record 510 of Set 1 | lethem\n",
      "Processing Record 511 of Set 1 | tautira\n",
      "Processing Record 512 of Set 1 | banepa\n",
      "Processing Record 513 of Set 1 | lata\n",
      "Processing Record 514 of Set 1 | aneho\n",
      "Processing Record 515 of Set 1 | hornslet\n",
      "Processing Record 516 of Set 1 | berbera\n",
      "Processing Record 517 of Set 1 | corner brook\n",
      "Processing Record 518 of Set 1 | port moresby\n",
      "Processing Record 519 of Set 1 | shimabara\n",
      "Processing Record 520 of Set 1 | sompeta\n",
      "Processing Record 521 of Set 1 | fairlie\n",
      "Processing Record 522 of Set 1 | el tocuyo\n",
      "Processing Record 523 of Set 1 | saint-louis\n",
      "Processing Record 524 of Set 1 | sao jose da coroa grande\n",
      "City not found. Skipping...\n",
      "Processing Record 526 of Set 1 | benjamin constant\n",
      "Processing Record 527 of Set 1 | larsnes\n",
      "Processing Record 528 of Set 1 | sakaiminato\n",
      "Processing Record 529 of Set 1 | muros\n",
      "Processing Record 530 of Set 1 | quelimane\n",
      "Processing Record 531 of Set 1 | nakhon si thammarat\n",
      "Processing Record 532 of Set 1 | altos\n",
      "City not found. Skipping...\n",
      "Processing Record 534 of Set 1 | mwinilunga\n",
      "Processing Record 535 of Set 1 | takoradi\n",
      "Processing Record 536 of Set 1 | buala\n",
      "Processing Record 537 of Set 1 | estelle\n",
      "Processing Record 538 of Set 1 | lysva\n",
      "Processing Record 539 of Set 1 | biak\n",
      "Processing Record 540 of Set 1 | madang\n",
      "Processing Record 541 of Set 1 | saint-joseph\n",
      "Processing Record 542 of Set 1 | caravelas\n",
      "Processing Record 543 of Set 1 | mogok\n",
      "Processing Record 544 of Set 1 | thinadhoo\n",
      "Processing Record 545 of Set 1 | katherine\n",
      "Processing Record 546 of Set 1 | san juan\n",
      "Processing Record 547 of Set 1 | sar-e pul\n",
      "Processing Record 548 of Set 1 | arrifes\n",
      "Processing Record 549 of Set 1 | naryan-mar\n",
      "Processing Record 550 of Set 1 | tarquinia\n",
      "Processing Record 551 of Set 1 | lipari\n",
      "Processing Record 552 of Set 1 | sarakhs\n",
      "Processing Record 553 of Set 1 | malaya purga\n",
      "Processing Record 554 of Set 1 | pailon\n",
      "Processing Record 555 of Set 1 | manoel urbano\n",
      "Processing Record 556 of Set 1 | santa isabel\n",
      "Processing Record 557 of Set 1 | catemaco\n",
      "Processing Record 558 of Set 1 | naranjal\n",
      "Processing Record 559 of Set 1 | biggar\n",
      "Processing Record 560 of Set 1 | iza\n",
      "Processing Record 561 of Set 1 | xining\n",
      "Processing Record 562 of Set 1 | la ciotat\n",
      "Processing Record 563 of Set 1 | aksarka\n",
      "Processing Record 564 of Set 1 | naduvattam\n",
      "Processing Record 565 of Set 1 | broken hill\n",
      "City not found. Skipping...\n",
      "Processing Record 567 of Set 1 | mhlambanyatsi\n",
      "Processing Record 568 of Set 1 | kandrian\n",
      "Processing Record 569 of Set 1 | mandurah\n",
      "Processing Record 570 of Set 1 | governador valadares\n",
      "Processing Record 571 of Set 1 | shache\n",
      "Processing Record 572 of Set 1 | boyolangu\n",
      "Processing Record 573 of Set 1 | yorosso\n",
      "Processing Record 574 of Set 1 | praia da vitoria\n",
      "Processing Record 575 of Set 1 | svetlyy\n",
      "City not found. Skipping...\n",
      "Processing Record 577 of Set 1 | onalaska\n",
      "Processing Record 578 of Set 1 | celestun\n",
      "Processing Record 579 of Set 1 | waitati\n",
      "City not found. Skipping...\n",
      "Processing Record 581 of Set 1 | laguna\n",
      "Processing Record 582 of Set 1 | maniitsoq\n",
      "Processing Record 583 of Set 1 | sao felix do xingu\n",
      "Processing Record 584 of Set 1 | conceicao do araguaia\n",
      "Processing Record 585 of Set 1 | alyangula\n",
      "Processing Record 586 of Set 1 | winslow\n",
      "Processing Record 587 of Set 1 | sovetskiy\n",
      "Processing Record 588 of Set 1 | presidente epitacio\n",
      "City not found. Skipping...\n",
      "Processing Record 590 of Set 1 | abonnema\n",
      "Processing Record 591 of Set 1 | villaviciosa\n",
      "Processing Record 592 of Set 1 | kumba\n",
      "Processing Record 593 of Set 1 | porto velho\n",
      "Processing Record 594 of Set 1 | loandjili\n",
      "Processing Record 595 of Set 1 | berezovyy\n",
      "Processing Record 596 of Set 1 | bandarban\n",
      "Processing Record 597 of Set 1 | maltahohe\n",
      "Processing Record 598 of Set 1 | viareggio\n",
      "Processing Record 599 of Set 1 | moron\n",
      "Processing Record 600 of Set 1 | carupano\n"
     ]
    },
    {
     "name": "stdout",
     "output_type": "stream",
     "text": [
      "Processing Record 601 of Set 1 | morondava\n",
      "Processing Record 602 of Set 1 | belaya gora\n",
      "Processing Record 603 of Set 1 | torres\n",
      "Processing Record 604 of Set 1 | lakeland highlands\n",
      "Processing Record 605 of Set 1 | castlemaine\n",
      "Processing Record 606 of Set 1 | callaway\n",
      "Processing Record 607 of Set 1 | strezhevoy\n",
      "Processing Record 608 of Set 1 | hirara\n",
      "Processing Record 609 of Set 1 | baruun-urt\n",
      "Processing Record 610 of Set 1 | olinda\n",
      "Processing Record 611 of Set 1 | washougal\n",
      "City not found. Skipping...\n",
      "Processing Record 613 of Set 1 | ravar\n",
      "Processing Record 614 of Set 1 | xiaoweizhai\n",
      "City not found. Skipping...\n",
      "Processing Record 616 of Set 1 | kenai\n",
      "Processing Record 617 of Set 1 | saint-gaudens\n"
     ]
    }
   ],
   "source": [
    "# set up lists to hold reponse info\n",
    "query_city=[]\n",
    "lat=[]\n",
    "lon=[]\n",
    "humid=[]\n",
    "cloudiness=[]\n",
    "wind=[]\n",
    "temp = []\n",
    "date=[]\n",
    "name=[]\n",
    "count=0\n",
    "\n",
    "# Loop through the list of cities and perform a request for data on each\n",
    "for query_city in cities:\n",
    "    response = requests.get(query_url + query_city)\n",
    "    response_json = response.json()\n",
    "    count = count + 1\n",
    "\n",
    "    # Try to grab the city if they are available in the Weather API\n",
    "    try:\n",
    "        lat.append(response_json['coord']['lat'])\n",
    "        lon.append(response_json['coord']['lon'])\n",
    "        temp.append(response_json['main']['temp_max'])\n",
    "        humid.append(response_json['main']['humidity'])\n",
    "        cloudiness.append(response_json['clouds']['all'])       \n",
    "        wind.append(response_json['wind']['speed'])   \n",
    "        date.append(response_json['dt'])\n",
    "        name.append(response_json['name'])\n",
    "        print(f\"Processing Record {count} of Set 1 | {query_city}\")\n",
    "        \n",
    "    # Handle exceptions for a character that is not available in the Star Wars API\n",
    "    except:\n",
    "        # Append null values\n",
    "        print(\"City not found. Skipping...\")\n",
    "        pass\n",
    "    "
   ]
  },
  {
   "cell_type": "markdown",
   "metadata": {},
   "source": [
    "### Convert Raw Data to DataFrame\n",
    "* Export the city data into a .csv.\n",
    "* Display the DataFrame"
   ]
  },
  {
   "cell_type": "code",
   "execution_count": 8,
   "metadata": {},
   "outputs": [
    {
     "data": {
      "text/html": [
       "<div>\n",
       "<style scoped>\n",
       "    .dataframe tbody tr th:only-of-type {\n",
       "        vertical-align: middle;\n",
       "    }\n",
       "\n",
       "    .dataframe tbody tr th {\n",
       "        vertical-align: top;\n",
       "    }\n",
       "\n",
       "    .dataframe thead th {\n",
       "        text-align: right;\n",
       "    }\n",
       "</style>\n",
       "<table border=\"1\" class=\"dataframe\">\n",
       "  <thead>\n",
       "    <tr style=\"text-align: right;\">\n",
       "      <th></th>\n",
       "      <th>City</th>\n",
       "      <th>Lat</th>\n",
       "      <th>Lng</th>\n",
       "      <th>Max Temp</th>\n",
       "      <th>Humidity</th>\n",
       "      <th>Cloudiness</th>\n",
       "      <th>Wind Speed</th>\n",
       "      <th>Date</th>\n",
       "    </tr>\n",
       "  </thead>\n",
       "  <tbody>\n",
       "    <tr>\n",
       "      <th>0</th>\n",
       "      <td>Punta Arenas</td>\n",
       "      <td>-53.1500</td>\n",
       "      <td>-70.9167</td>\n",
       "      <td>46.40</td>\n",
       "      <td>57</td>\n",
       "      <td>0</td>\n",
       "      <td>8.05</td>\n",
       "      <td>1619028968</td>\n",
       "    </tr>\n",
       "    <tr>\n",
       "      <th>1</th>\n",
       "      <td>Castro</td>\n",
       "      <td>-24.7911</td>\n",
       "      <td>-50.0119</td>\n",
       "      <td>68.81</td>\n",
       "      <td>56</td>\n",
       "      <td>29</td>\n",
       "      <td>7.49</td>\n",
       "      <td>1619029144</td>\n",
       "    </tr>\n",
       "    <tr>\n",
       "      <th>2</th>\n",
       "      <td>Yumen</td>\n",
       "      <td>40.2833</td>\n",
       "      <td>97.2000</td>\n",
       "      <td>61.77</td>\n",
       "      <td>14</td>\n",
       "      <td>87</td>\n",
       "      <td>7.38</td>\n",
       "      <td>1619029144</td>\n",
       "    </tr>\n",
       "    <tr>\n",
       "      <th>3</th>\n",
       "      <td>Kaitangata</td>\n",
       "      <td>-46.2817</td>\n",
       "      <td>169.8464</td>\n",
       "      <td>53.01</td>\n",
       "      <td>83</td>\n",
       "      <td>100</td>\n",
       "      <td>1.99</td>\n",
       "      <td>1619029144</td>\n",
       "    </tr>\n",
       "    <tr>\n",
       "      <th>4</th>\n",
       "      <td>Kloulklubed</td>\n",
       "      <td>7.0419</td>\n",
       "      <td>134.2556</td>\n",
       "      <td>77.00</td>\n",
       "      <td>94</td>\n",
       "      <td>40</td>\n",
       "      <td>3.83</td>\n",
       "      <td>1619029145</td>\n",
       "    </tr>\n",
       "    <tr>\n",
       "      <th>...</th>\n",
       "      <td>...</td>\n",
       "      <td>...</td>\n",
       "      <td>...</td>\n",
       "      <td>...</td>\n",
       "      <td>...</td>\n",
       "      <td>...</td>\n",
       "      <td>...</td>\n",
       "      <td>...</td>\n",
       "    </tr>\n",
       "    <tr>\n",
       "      <th>560</th>\n",
       "      <td>Washougal</td>\n",
       "      <td>45.5826</td>\n",
       "      <td>-122.3534</td>\n",
       "      <td>66.00</td>\n",
       "      <td>51</td>\n",
       "      <td>40</td>\n",
       "      <td>3.09</td>\n",
       "      <td>1619029355</td>\n",
       "    </tr>\n",
       "    <tr>\n",
       "      <th>561</th>\n",
       "      <td>Rāvar</td>\n",
       "      <td>31.2656</td>\n",
       "      <td>56.8055</td>\n",
       "      <td>76.86</td>\n",
       "      <td>16</td>\n",
       "      <td>15</td>\n",
       "      <td>6.62</td>\n",
       "      <td>1619029356</td>\n",
       "    </tr>\n",
       "    <tr>\n",
       "      <th>562</th>\n",
       "      <td>Xiaoweizhai</td>\n",
       "      <td>26.1903</td>\n",
       "      <td>107.5125</td>\n",
       "      <td>65.61</td>\n",
       "      <td>99</td>\n",
       "      <td>89</td>\n",
       "      <td>1.63</td>\n",
       "      <td>1619029356</td>\n",
       "    </tr>\n",
       "    <tr>\n",
       "      <th>563</th>\n",
       "      <td>Kenai</td>\n",
       "      <td>60.5544</td>\n",
       "      <td>-151.2583</td>\n",
       "      <td>39.20</td>\n",
       "      <td>81</td>\n",
       "      <td>1</td>\n",
       "      <td>10.36</td>\n",
       "      <td>1619029357</td>\n",
       "    </tr>\n",
       "    <tr>\n",
       "      <th>564</th>\n",
       "      <td>Arrondissement de Saint-Gaudens</td>\n",
       "      <td>43.0833</td>\n",
       "      <td>0.6667</td>\n",
       "      <td>62.60</td>\n",
       "      <td>45</td>\n",
       "      <td>90</td>\n",
       "      <td>3.44</td>\n",
       "      <td>1619029357</td>\n",
       "    </tr>\n",
       "  </tbody>\n",
       "</table>\n",
       "<p>565 rows × 8 columns</p>\n",
       "</div>"
      ],
      "text/plain": [
       "                                City      Lat       Lng  Max Temp  Humidity  \\\n",
       "0                       Punta Arenas -53.1500  -70.9167     46.40        57   \n",
       "1                             Castro -24.7911  -50.0119     68.81        56   \n",
       "2                              Yumen  40.2833   97.2000     61.77        14   \n",
       "3                         Kaitangata -46.2817  169.8464     53.01        83   \n",
       "4                        Kloulklubed   7.0419  134.2556     77.00        94   \n",
       "..                               ...      ...       ...       ...       ...   \n",
       "560                        Washougal  45.5826 -122.3534     66.00        51   \n",
       "561                            Rāvar  31.2656   56.8055     76.86        16   \n",
       "562                      Xiaoweizhai  26.1903  107.5125     65.61        99   \n",
       "563                            Kenai  60.5544 -151.2583     39.20        81   \n",
       "564  Arrondissement de Saint-Gaudens  43.0833    0.6667     62.60        45   \n",
       "\n",
       "     Cloudiness  Wind Speed        Date  \n",
       "0             0        8.05  1619028968  \n",
       "1            29        7.49  1619029144  \n",
       "2            87        7.38  1619029144  \n",
       "3           100        1.99  1619029144  \n",
       "4            40        3.83  1619029145  \n",
       "..          ...         ...         ...  \n",
       "560          40        3.09  1619029355  \n",
       "561          15        6.62  1619029356  \n",
       "562          89        1.63  1619029356  \n",
       "563           1       10.36  1619029357  \n",
       "564          90        3.44  1619029357  \n",
       "\n",
       "[565 rows x 8 columns]"
      ]
     },
     "execution_count": 8,
     "metadata": {},
     "output_type": "execute_result"
    }
   ],
   "source": [
    "# Create DataFrame\n",
    "city_stats = pd.DataFrame({\n",
    "    'City': name,\n",
    "    'Lat': lat,\n",
    "    'Lng': lon,\n",
    "    'Max Temp': temp,\n",
    "    'Humidity': humid,\n",
    "    'Cloudiness': cloudiness,\n",
    "    'Wind Speed': wind,\n",
    "    'Date': date\n",
    "})\n",
    "city_stats"
   ]
  },
  {
   "cell_type": "code",
   "execution_count": 32,
   "metadata": {},
   "outputs": [],
   "source": [
    "# Push the remade DataFrame to a new CSV file\n",
    "city_stats.to_csv(\"../output_data/cities.csv\", index=False, header=True)"
   ]
  },
  {
   "cell_type": "markdown",
   "metadata": {},
   "source": [
    "## Inspect the data and remove the cities where the humidity > 100%.\n",
    "----\n",
    "Skip this step if there are no cities that have humidity > 100%. "
   ]
  },
  {
   "cell_type": "code",
   "execution_count": 10,
   "metadata": {},
   "outputs": [
    {
     "data": {
      "text/html": [
       "<div>\n",
       "<style scoped>\n",
       "    .dataframe tbody tr th:only-of-type {\n",
       "        vertical-align: middle;\n",
       "    }\n",
       "\n",
       "    .dataframe tbody tr th {\n",
       "        vertical-align: top;\n",
       "    }\n",
       "\n",
       "    .dataframe thead th {\n",
       "        text-align: right;\n",
       "    }\n",
       "</style>\n",
       "<table border=\"1\" class=\"dataframe\">\n",
       "  <thead>\n",
       "    <tr style=\"text-align: right;\">\n",
       "      <th></th>\n",
       "      <th>City</th>\n",
       "      <th>Lat</th>\n",
       "      <th>Lng</th>\n",
       "      <th>Max Temp</th>\n",
       "      <th>Humidity</th>\n",
       "      <th>Cloudiness</th>\n",
       "      <th>Wind Speed</th>\n",
       "      <th>Date</th>\n",
       "    </tr>\n",
       "  </thead>\n",
       "  <tbody>\n",
       "  </tbody>\n",
       "</table>\n",
       "</div>"
      ],
      "text/plain": [
       "Empty DataFrame\n",
       "Columns: [City, Lat, Lng, Max Temp, Humidity, Cloudiness, Wind Speed, Date]\n",
       "Index: []"
      ]
     },
     "execution_count": 10,
     "metadata": {},
     "output_type": "execute_result"
    }
   ],
   "source": [
    "# Filter to >100% humidity\n",
    "humidity_df = city_stats.loc[city_stats[\"Humidity\"] > 100, :]\n",
    "humidity_df.head()"
   ]
  },
  {
   "cell_type": "code",
   "execution_count": null,
   "metadata": {},
   "outputs": [],
   "source": [
    "# no cities with humidity error, proceeed to next step"
   ]
  },
  {
   "cell_type": "code",
   "execution_count": 6,
   "metadata": {},
   "outputs": [
    {
     "data": {
      "text/html": [
       "<div>\n",
       "<style scoped>\n",
       "    .dataframe tbody tr th:only-of-type {\n",
       "        vertical-align: middle;\n",
       "    }\n",
       "\n",
       "    .dataframe tbody tr th {\n",
       "        vertical-align: top;\n",
       "    }\n",
       "\n",
       "    .dataframe thead th {\n",
       "        text-align: right;\n",
       "    }\n",
       "</style>\n",
       "<table border=\"1\" class=\"dataframe\">\n",
       "  <thead>\n",
       "    <tr style=\"text-align: right;\">\n",
       "      <th></th>\n",
       "      <th>Lat</th>\n",
       "      <th>Lng</th>\n",
       "      <th>Max Temp</th>\n",
       "      <th>Humidity</th>\n",
       "      <th>Cloudiness</th>\n",
       "      <th>Wind Speed</th>\n",
       "      <th>Date</th>\n",
       "    </tr>\n",
       "  </thead>\n",
       "  <tbody>\n",
       "    <tr>\n",
       "      <th>count</th>\n",
       "      <td>550.000000</td>\n",
       "      <td>550.000000</td>\n",
       "      <td>550.000000</td>\n",
       "      <td>550.000000</td>\n",
       "      <td>550.000000</td>\n",
       "      <td>550.000000</td>\n",
       "      <td>5.500000e+02</td>\n",
       "    </tr>\n",
       "    <tr>\n",
       "      <th>mean</th>\n",
       "      <td>19.973545</td>\n",
       "      <td>17.124400</td>\n",
       "      <td>58.331400</td>\n",
       "      <td>67.890909</td>\n",
       "      <td>52.141818</td>\n",
       "      <td>8.544800</td>\n",
       "      <td>1.585764e+09</td>\n",
       "    </tr>\n",
       "    <tr>\n",
       "      <th>std</th>\n",
       "      <td>33.284840</td>\n",
       "      <td>91.595451</td>\n",
       "      <td>25.795297</td>\n",
       "      <td>20.864881</td>\n",
       "      <td>35.766469</td>\n",
       "      <td>6.078869</td>\n",
       "      <td>5.539674e+01</td>\n",
       "    </tr>\n",
       "    <tr>\n",
       "      <th>min</th>\n",
       "      <td>-54.800000</td>\n",
       "      <td>-179.170000</td>\n",
       "      <td>-11.340000</td>\n",
       "      <td>9.000000</td>\n",
       "      <td>0.000000</td>\n",
       "      <td>0.160000</td>\n",
       "      <td>1.585764e+09</td>\n",
       "    </tr>\n",
       "    <tr>\n",
       "      <th>25%</th>\n",
       "      <td>-8.077500</td>\n",
       "      <td>-64.627500</td>\n",
       "      <td>42.800000</td>\n",
       "      <td>55.000000</td>\n",
       "      <td>20.000000</td>\n",
       "      <td>4.525000</td>\n",
       "      <td>1.585764e+09</td>\n",
       "    </tr>\n",
       "    <tr>\n",
       "      <th>50%</th>\n",
       "      <td>23.630000</td>\n",
       "      <td>19.635000</td>\n",
       "      <td>64.940000</td>\n",
       "      <td>72.000000</td>\n",
       "      <td>57.000000</td>\n",
       "      <td>7.325000</td>\n",
       "      <td>1.585764e+09</td>\n",
       "    </tr>\n",
       "    <tr>\n",
       "      <th>75%</th>\n",
       "      <td>48.672500</td>\n",
       "      <td>97.350000</td>\n",
       "      <td>78.800000</td>\n",
       "      <td>83.000000</td>\n",
       "      <td>86.750000</td>\n",
       "      <td>11.410000</td>\n",
       "      <td>1.585764e+09</td>\n",
       "    </tr>\n",
       "    <tr>\n",
       "      <th>max</th>\n",
       "      <td>78.220000</td>\n",
       "      <td>179.320000</td>\n",
       "      <td>102.200000</td>\n",
       "      <td>100.000000</td>\n",
       "      <td>100.000000</td>\n",
       "      <td>46.080000</td>\n",
       "      <td>1.585764e+09</td>\n",
       "    </tr>\n",
       "  </tbody>\n",
       "</table>\n",
       "</div>"
      ],
      "text/plain": [
       "              Lat         Lng    Max Temp    Humidity  Cloudiness  Wind Speed  \\\n",
       "count  550.000000  550.000000  550.000000  550.000000  550.000000  550.000000   \n",
       "mean    19.973545   17.124400   58.331400   67.890909   52.141818    8.544800   \n",
       "std     33.284840   91.595451   25.795297   20.864881   35.766469    6.078869   \n",
       "min    -54.800000 -179.170000  -11.340000    9.000000    0.000000    0.160000   \n",
       "25%     -8.077500  -64.627500   42.800000   55.000000   20.000000    4.525000   \n",
       "50%     23.630000   19.635000   64.940000   72.000000   57.000000    7.325000   \n",
       "75%     48.672500   97.350000   78.800000   83.000000   86.750000   11.410000   \n",
       "max     78.220000  179.320000  102.200000  100.000000  100.000000   46.080000   \n",
       "\n",
       "               Date  \n",
       "count  5.500000e+02  \n",
       "mean   1.585764e+09  \n",
       "std    5.539674e+01  \n",
       "min    1.585764e+09  \n",
       "25%    1.585764e+09  \n",
       "50%    1.585764e+09  \n",
       "75%    1.585764e+09  \n",
       "max    1.585764e+09  "
      ]
     },
     "execution_count": 6,
     "metadata": {},
     "output_type": "execute_result"
    }
   ],
   "source": []
  },
  {
   "cell_type": "code",
   "execution_count": 17,
   "metadata": {},
   "outputs": [
    {
     "data": {
      "text/plain": [
       "Int64Index([], dtype='int64')"
      ]
     },
     "execution_count": 17,
     "metadata": {},
     "output_type": "execute_result"
    }
   ],
   "source": [
    "#  Get the indices of cities that have humidity over 100%.\n"
   ]
  },
  {
   "cell_type": "code",
   "execution_count": 19,
   "metadata": {},
   "outputs": [
    {
     "data": {
      "text/html": [
       "<div>\n",
       "<style scoped>\n",
       "    .dataframe tbody tr th:only-of-type {\n",
       "        vertical-align: middle;\n",
       "    }\n",
       "\n",
       "    .dataframe tbody tr th {\n",
       "        vertical-align: top;\n",
       "    }\n",
       "\n",
       "    .dataframe thead th {\n",
       "        text-align: right;\n",
       "    }\n",
       "</style>\n",
       "<table border=\"1\" class=\"dataframe\">\n",
       "  <thead>\n",
       "    <tr style=\"text-align: right;\">\n",
       "      <th></th>\n",
       "      <th>City</th>\n",
       "      <th>Lat</th>\n",
       "      <th>Lng</th>\n",
       "      <th>Max Temp</th>\n",
       "      <th>Humidity</th>\n",
       "      <th>Cloudiness</th>\n",
       "      <th>Wind Speed</th>\n",
       "      <th>Country</th>\n",
       "      <th>Date</th>\n",
       "    </tr>\n",
       "  </thead>\n",
       "  <tbody>\n",
       "    <tr>\n",
       "      <td>0</td>\n",
       "      <td>butaritari</td>\n",
       "      <td>3.07</td>\n",
       "      <td>172.79</td>\n",
       "      <td>83.32</td>\n",
       "      <td>74</td>\n",
       "      <td>84</td>\n",
       "      <td>10.42</td>\n",
       "      <td>KI</td>\n",
       "      <td>1593605283</td>\n",
       "    </tr>\n",
       "    <tr>\n",
       "      <td>1</td>\n",
       "      <td>yerbogachen</td>\n",
       "      <td>61.28</td>\n",
       "      <td>108.01</td>\n",
       "      <td>79.52</td>\n",
       "      <td>58</td>\n",
       "      <td>20</td>\n",
       "      <td>7.70</td>\n",
       "      <td>RU</td>\n",
       "      <td>1593605121</td>\n",
       "    </tr>\n",
       "    <tr>\n",
       "      <td>2</td>\n",
       "      <td>cape town</td>\n",
       "      <td>-33.93</td>\n",
       "      <td>18.42</td>\n",
       "      <td>73.00</td>\n",
       "      <td>77</td>\n",
       "      <td>27</td>\n",
       "      <td>4.70</td>\n",
       "      <td>ZA</td>\n",
       "      <td>1593605039</td>\n",
       "    </tr>\n",
       "    <tr>\n",
       "      <td>3</td>\n",
       "      <td>touba</td>\n",
       "      <td>8.28</td>\n",
       "      <td>-7.68</td>\n",
       "      <td>79.97</td>\n",
       "      <td>75</td>\n",
       "      <td>82</td>\n",
       "      <td>3.58</td>\n",
       "      <td>CI</td>\n",
       "      <td>1593605284</td>\n",
       "    </tr>\n",
       "    <tr>\n",
       "      <td>4</td>\n",
       "      <td>jamestown</td>\n",
       "      <td>42.10</td>\n",
       "      <td>-79.24</td>\n",
       "      <td>64.00</td>\n",
       "      <td>88</td>\n",
       "      <td>1</td>\n",
       "      <td>6.93</td>\n",
       "      <td>US</td>\n",
       "      <td>1593605284</td>\n",
       "    </tr>\n",
       "  </tbody>\n",
       "</table>\n",
       "</div>"
      ],
      "text/plain": [
       "          City    Lat     Lng  Max Temp  Humidity  Cloudiness  Wind Speed  \\\n",
       "0   butaritari   3.07  172.79     83.32        74          84       10.42   \n",
       "1  yerbogachen  61.28  108.01     79.52        58          20        7.70   \n",
       "2    cape town -33.93   18.42     73.00        77          27        4.70   \n",
       "3        touba   8.28   -7.68     79.97        75          82        3.58   \n",
       "4    jamestown  42.10  -79.24     64.00        88           1        6.93   \n",
       "\n",
       "  Country        Date  \n",
       "0      KI  1593605283  \n",
       "1      RU  1593605121  \n",
       "2      ZA  1593605039  \n",
       "3      CI  1593605284  \n",
       "4      US  1593605284  "
      ]
     },
     "execution_count": 19,
     "metadata": {},
     "output_type": "execute_result"
    }
   ],
   "source": [
    "# Make a new DataFrame equal to the city data to drop all humidity outliers by index.\n",
    "# Passing \"inplace=False\" will make a copy of the city_data DataFrame, which we call \"clean_city_data\".\n"
   ]
  },
  {
   "cell_type": "code",
   "execution_count": null,
   "metadata": {},
   "outputs": [],
   "source": [
    "# Data is clean, above steps not needed\n"
   ]
  },
  {
   "cell_type": "markdown",
   "metadata": {},
   "source": [
    "## Plotting the Data\n",
    "* Use proper labeling of the plots using plot titles (including date of analysis) and axes labels.\n",
    "* Save the plotted figures as .pngs."
   ]
  },
  {
   "cell_type": "markdown",
   "metadata": {},
   "source": [
    "## Latitude vs. Temperature Plot"
   ]
  },
  {
   "cell_type": "code",
   "execution_count": 11,
   "metadata": {},
   "outputs": [
    {
     "data": {
      "image/png": "[encoded data removed]",
      "text/plain": [
       "<Figure size 432x432 with 1 Axes>"
      ]
     },
     "metadata": {
      "needs_background": "light"
     },
     "output_type": "display_data"
    }
   ],
   "source": [
    "# Create a scatter plot which compares Lat to Max Temp\n",
    "city_stats.plot(kind=\"scatter\", x=\"Lat\", y=\"Max Temp\", grid=True, figsize=(6,6),\n",
    "              title=\"City Latitude vs. Max Tempature\")\n",
    "plt.xlabel('City Latitude')\n",
    "plt.ylabel('Max Temperature (F)')\n",
    "plt.show()"
   ]
  },
  {
   "cell_type": "markdown",
   "metadata": {},
   "source": [
    "## Latitude vs. Humidity Plot"
   ]
  },
  {
   "cell_type": "code",
   "execution_count": 12,
   "metadata": {},
   "outputs": [
    {
     "data": {
      "image/png": "[encoded data removed]",
      "text/plain": [
       "<Figure size 432x432 with 1 Axes>"
      ]
     },
     "metadata": {
      "needs_background": "light"
     },
     "output_type": "display_data"
    }
   ],
   "source": [
    "# Create a scatter plot which compares Lat to Humidity\n",
    "city_stats.plot(kind=\"scatter\", x=\"Lat\", y=\"Humidity\", grid=True, figsize=(6,6),\n",
    "              title=\"City Latitude vs. Humidity\")\n",
    "plt.xlabel('City Latitude')\n",
    "plt.ylabel('Humidity (%)')\n",
    "plt.show()"
   ]
  },
  {
   "cell_type": "markdown",
   "metadata": {},
   "source": [
    "## Latitude vs. Cloudiness Plot"
   ]
  },
  {
   "cell_type": "code",
   "execution_count": 13,
   "metadata": {},
   "outputs": [
    {
     "data": {
      "image/png": "[encoded data removed]",
      "text/plain": [
       "<Figure size 432x432 with 1 Axes>"
      ]
     },
     "metadata": {
      "needs_background": "light"
     },
     "output_type": "display_data"
    }
   ],
   "source": [
    "# Create a scatter plot which compares Lat to Cloudiness\n",
    "city_stats.plot(kind=\"scatter\", x=\"Lat\", y=\"Cloudiness\", grid=True, figsize=(6,6),\n",
    "              title=\"City Latitude vs. Cloudiness\")\n",
    "plt.xlabel('City Latitude')\n",
    "plt.ylabel('Cloudiness (%)')\n",
    "plt.show()"
   ]
  },
  {
   "cell_type": "markdown",
   "metadata": {},
   "source": [
    "## Latitude vs. Wind Speed Plot"
   ]
  },
  {
   "cell_type": "code",
   "execution_count": 14,
   "metadata": {},
   "outputs": [
    {
     "data": {
      "image/png": "[encoded data removed]",
      "text/plain": [
       "<Figure size 432x288 with 1 Axes>"
      ]
     },
     "metadata": {
      "needs_background": "light"
     },
     "output_type": "display_data"
    }
   ],
   "source": [
    "# Create a scatter plot which compares Lat to Cloudiness\n",
    "city_stats.plot(kind=\"scatter\", x=\"Lat\", y=\"Wind Speed\", grid=True, figsize=(6,4),\n",
    "              title=\"City Latitude vs. Wind Speed\")\n",
    "plt.xlabel('City Latitude')\n",
    "plt.ylabel('Wind Speed')\n",
    "plt.show()"
   ]
  },
  {
   "cell_type": "markdown",
   "metadata": {},
   "source": [
    "## Linear Regression"
   ]
  },
  {
   "cell_type": "code",
   "execution_count": 15,
   "metadata": {},
   "outputs": [],
   "source": [
    "# filter for northern hemisphere\n",
    "northern_df = city_stats.loc[city_stats[\"Lat\"] > 0, :]\n",
    "\n",
    "# filter for southern hemisphere\n",
    "southern_df = city_stats.loc[city_stats[\"Lat\"] < 0, :]"
   ]
  },
  {
   "cell_type": "markdown",
   "metadata": {},
   "source": [
    "####  Northern Hemisphere - Max Temp vs. Latitude Linear Regression"
   ]
  },
  {
   "cell_type": "code",
   "execution_count": 16,
   "metadata": {},
   "outputs": [],
   "source": [
    "# variables to hold x and y\n",
    "x_axis = northern_df['Lat']\n",
    "y_axis = northern_df['Max Temp']\n",
    "\n",
    "# Perform a linear regression on year versus violent crime rate\n",
    "slope, intercept, rvalue, pvalue, std_err = stats.linregress(x_axis, y_axis)\n",
    "\n",
    "# regression equation\n",
    "fit = x_axis * slope + intercept\n",
    "\n",
    "# create the text of the line equation for slope intercept equation\n",
    "line_eq = \"y = \" + str(round(slope,2)) + \"x + \" + str(round(intercept,2))"
   ]
  },
  {
   "cell_type": "code",
   "execution_count": 17,
   "metadata": {},
   "outputs": [
    {
     "data": {
      "image/png": "[encoded data removed]",
      "text/plain": [
       "<Figure size 432x288 with 1 Axes>"
      ]
     },
     "metadata": {
      "needs_background": "light"
     },
     "output_type": "display_data"
    },
    {
     "name": "stdout",
     "output_type": "stream",
     "text": [
      "The r-value is: 0.776689590891623\n"
     ]
    }
   ],
   "source": [
    "# equations to print the scatter plot\n",
    "plt.scatter(x_axis,y_axis)\n",
    "plt.plot(x_axis,fit,\"--\",color=\"r\")\n",
    "plt.xlabel('Latitude')\n",
    "plt.ylabel('Max Temp')\n",
    "plt.annotate(line_eq,(6,10),fontsize=15,color=\"red\")\n",
    "plt.show()\n",
    "print(f\"The r-value is: {rvalue**2}\")"
   ]
  },
  {
   "cell_type": "markdown",
   "metadata": {},
   "source": [
    "####  Southern Hemisphere - Max Temp vs. Latitude Linear Regression"
   ]
  },
  {
   "cell_type": "code",
   "execution_count": 18,
   "metadata": {},
   "outputs": [],
   "source": [
    "# variables to hold x and y\n",
    "x_axis = southern_df['Lat']\n",
    "y_axis = southern_df['Max Temp']\n",
    "\n",
    "# Perform a linear regression on year versus violent crime rate\n",
    "slope, intercept, rvalue, pvalue, std_err = stats.linregress(x_axis, y_axis)\n",
    "\n",
    "# regression equation\n",
    "fit = x_axis * slope + intercept\n",
    "\n",
    "# create the text of the line equation for slope intercept equation\n",
    "line_eq = \"y = \" + str(round(slope,2)) + \"x + \" + str(round(intercept,2))"
   ]
  },
  {
   "cell_type": "code",
   "execution_count": 19,
   "metadata": {},
   "outputs": [
    {
     "data": {
      "image/png": "[encoded data removed]",
      "text/plain": [
       "<Figure size 432x288 with 1 Axes>"
      ]
     },
     "metadata": {
      "needs_background": "light"
     },
     "output_type": "display_data"
    },
    {
     "name": "stdout",
     "output_type": "stream",
     "text": [
      "The r-value is: 0.527447366848495\n"
     ]
    }
   ],
   "source": [
    "# equations to print the scatter plot\n",
    "plt.scatter(x_axis,y_axis)\n",
    "plt.plot(x_axis,fit,\"--\",color=\"r\")\n",
    "plt.xlabel('Latitude')\n",
    "plt.ylabel('Max Temp')\n",
    "plt.annotate(line_eq,(-30,40),fontsize=15,color=\"red\")\n",
    "plt.show()\n",
    "print(f\"The r-value is: {rvalue**2}\")"
   ]
  },
  {
   "cell_type": "markdown",
   "metadata": {},
   "source": [
    "####  Northern Hemisphere - Humidity (%) vs. Latitude Linear Regression"
   ]
  },
  {
   "cell_type": "code",
   "execution_count": 20,
   "metadata": {},
   "outputs": [],
   "source": [
    "# variables to hold x and y\n",
    "x_axis = northern_df['Lat']\n",
    "y_axis = northern_df['Humidity']\n",
    "\n",
    "# Perform a linear regression on year versus violent crime rate\n",
    "slope, intercept, rvalue, pvalue, std_err = stats.linregress(x_axis, y_axis)\n",
    "\n",
    "# regression equation\n",
    "fit = x_axis * slope + intercept\n",
    "\n",
    "# create the text of the line equation for slope intercept equation\n",
    "line_eq = \"y = \" + str(round(slope,2)) + \"x + \" + str(round(intercept,2))"
   ]
  },
  {
   "cell_type": "code",
   "execution_count": 21,
   "metadata": {},
   "outputs": [
    {
     "data": {
      "image/png": "[encoded data removed]",
      "text/plain": [
       "<Figure size 432x288 with 1 Axes>"
      ]
     },
     "metadata": {
      "needs_background": "light"
     },
     "output_type": "display_data"
    },
    {
     "name": "stdout",
     "output_type": "stream",
     "text": [
      "The r-value is: 0.022851193838754152\n"
     ]
    }
   ],
   "source": [
    "# equations to print the scatter plot\n",
    "plt.scatter(x_axis,y_axis)\n",
    "plt.plot(x_axis,fit,\"--\",color=\"r\")\n",
    "plt.xlabel('Latitude')\n",
    "plt.ylabel('Humidity (%)')\n",
    "plt.annotate(line_eq,(40,10),fontsize=15,color=\"red\")\n",
    "plt.show()\n",
    "print(f\"The r-value is: {rvalue**2}\")"
   ]
  },
  {
   "cell_type": "markdown",
   "metadata": {},
   "source": [
    "####  Southern Hemisphere - Humidity (%) vs. Latitude Linear Regression"
   ]
  },
  {
   "cell_type": "code",
   "execution_count": 22,
   "metadata": {},
   "outputs": [],
   "source": [
    "# variables to hold x and y\n",
    "x_axis = southern_df['Lat']\n",
    "y_axis = southern_df['Humidity']\n",
    "\n",
    "# Perform a linear regression on year versus violent crime rate\n",
    "slope, intercept, rvalue, pvalue, std_err = stats.linregress(x_axis, y_axis)\n",
    "\n",
    "# regression equation\n",
    "fit = x_axis * slope + intercept\n",
    "\n",
    "# create the text of the line equation for slope intercept equation\n",
    "line_eq = \"y = \" + str(round(slope,2)) + \"x + \" + str(round(intercept,2))"
   ]
  },
  {
   "cell_type": "code",
   "execution_count": 23,
   "metadata": {},
   "outputs": [
    {
     "data": {
      "image/png": "[encoded data removed]",
      "text/plain": [
       "<Figure size 432x288 with 1 Axes>"
      ]
     },
     "metadata": {
      "needs_background": "light"
     },
     "output_type": "display_data"
    },
    {
     "name": "stdout",
     "output_type": "stream",
     "text": [
      "The r-value is: 0.00010444466326937546\n"
     ]
    }
   ],
   "source": [
    "# equations to print the scatter plot\n",
    "plt.scatter(x_axis,y_axis)\n",
    "plt.plot(x_axis,fit,\"--\",color=\"r\")\n",
    "plt.xlabel('Latitude')\n",
    "plt.ylabel('Humidity (%)')\n",
    "plt.annotate(line_eq,(-50,30),fontsize=15,color=\"red\")\n",
    "plt.show()\n",
    "print(f\"The r-value is: {rvalue**2}\")"
   ]
  },
  {
   "cell_type": "markdown",
   "metadata": {},
   "source": [
    "####  Northern Hemisphere - Cloudiness (%) vs. Latitude Linear Regression"
   ]
  },
  {
   "cell_type": "code",
   "execution_count": 24,
   "metadata": {},
   "outputs": [],
   "source": [
    "# variables to hold x and y\n",
    "x_axis = northern_df['Lat']\n",
    "y_axis = northern_df['Cloudiness']\n",
    "\n",
    "# Perform a linear regression on year versus violent crime rate\n",
    "slope, intercept, rvalue, pvalue, std_err = stats.linregress(x_axis, y_axis)\n",
    "\n",
    "# regression equation\n",
    "fit = x_axis * slope + intercept\n",
    "\n",
    "# create the text of the line equation for slope intercept equation\n",
    "line_eq = \"y = \" + str(round(slope,2)) + \"x + \" + str(round(intercept,2))"
   ]
  },
  {
   "cell_type": "code",
   "execution_count": 25,
   "metadata": {},
   "outputs": [
    {
     "data": {
      "image/png": "[encoded data removed]",
      "text/plain": [
       "<Figure size 432x288 with 1 Axes>"
      ]
     },
     "metadata": {
      "needs_background": "light"
     },
     "output_type": "display_data"
    },
    {
     "name": "stdout",
     "output_type": "stream",
     "text": [
      "The r-value is: 0.008151545955208239\n"
     ]
    }
   ],
   "source": [
    "# equations to print the scatter plot\n",
    "plt.scatter(x_axis,y_axis)\n",
    "plt.plot(x_axis,fit,\"--\",color=\"r\")\n",
    "plt.xlabel('Latitude')\n",
    "plt.ylabel('Cloudiness (%)')\n",
    "plt.annotate(line_eq,(10,25),fontsize=15,color=\"red\")\n",
    "plt.show()\n",
    "print(f\"The r-value is: {rvalue**2}\")"
   ]
  },
  {
   "cell_type": "markdown",
   "metadata": {},
   "source": [
    "####  Southern Hemisphere - Cloudiness (%) vs. Latitude Linear Regression"
   ]
  },
  {
   "cell_type": "code",
   "execution_count": 26,
   "metadata": {},
   "outputs": [],
   "source": [
    "# variables to hold x and y\n",
    "x_axis = southern_df['Lat']\n",
    "y_axis = southern_df['Cloudiness']\n",
    "\n",
    "# Perform a linear regression on year versus violent crime rate\n",
    "slope, intercept, rvalue, pvalue, std_err = stats.linregress(x_axis, y_axis)\n",
    "\n",
    "# regression equation\n",
    "fit = x_axis * slope + intercept\n",
    "\n",
    "# create the text of the line equation for slope intercept equation\n",
    "line_eq = \"y = \" + str(round(slope,2)) + \"x + \" + str(round(intercept,2))"
   ]
  },
  {
   "cell_type": "code",
   "execution_count": 27,
   "metadata": {},
   "outputs": [
    {
     "data": {
      "image/png": "[encoded data removed]",
      "text/plain": [
       "<Figure size 432x288 with 1 Axes>"
      ]
     },
     "metadata": {
      "needs_background": "light"
     },
     "output_type": "display_data"
    },
    {
     "name": "stdout",
     "output_type": "stream",
     "text": [
      "The r-value is: 0.0006700619023101956\n"
     ]
    }
   ],
   "source": [
    "# equations to print the scatter plot\n",
    "plt.scatter(x_axis,y_axis)\n",
    "plt.plot(x_axis,fit,\"--\",color=\"r\")\n",
    "plt.xlabel('Latitude')\n",
    "plt.ylabel('Cloudiness (%)')\n",
    "plt.annotate(line_eq,(10,25),fontsize=15,color=\"red\")\n",
    "plt.show()\n",
    "print(f\"The r-value is: {rvalue**2}\")"
   ]
  },
  {
   "cell_type": "markdown",
   "metadata": {},
   "source": [
    "####  Northern Hemisphere - Wind Speed (mph) vs. Latitude Linear Regression"
   ]
  },
  {
   "cell_type": "code",
   "execution_count": 28,
   "metadata": {},
   "outputs": [],
   "source": [
    "# variables to hold x and y\n",
    "x_axis = northern_df['Lat']\n",
    "y_axis = northern_df['Wind Speed']\n",
    "\n",
    "# Perform a linear regression on year versus violent crime rate\n",
    "slope, intercept, rvalue, pvalue, std_err = stats.linregress(x_axis, y_axis)\n",
    "\n",
    "# regression equation\n",
    "fit = x_axis * slope + intercept\n",
    "\n",
    "# create the text of the line equation for slope intercept equation\n",
    "line_eq = \"y = \" + str(round(slope,2)) + \"x + \" + str(round(intercept,2))"
   ]
  },
  {
   "cell_type": "code",
   "execution_count": 29,
   "metadata": {},
   "outputs": [
    {
     "data": {
      "image/png": "[encoded data removed]",
      "text/plain": [
       "<Figure size 432x288 with 1 Axes>"
      ]
     },
     "metadata": {
      "needs_background": "light"
     },
     "output_type": "display_data"
    },
    {
     "name": "stdout",
     "output_type": "stream",
     "text": [
      "The r-value is: 0.0014907480104784422\n"
     ]
    }
   ],
   "source": [
    "# equations to print the scatter plot\n",
    "plt.scatter(x_axis,y_axis)\n",
    "plt.plot(x_axis,fit,\"--\",color=\"r\")\n",
    "plt.xlabel('Latitude')\n",
    "plt.ylabel('Wind Speed')\n",
    "plt.annotate(line_eq,(10,25),fontsize=15,color=\"red\")\n",
    "plt.show()\n",
    "print(f\"The r-value is: {rvalue**2}\")"
   ]
  },
  {
   "cell_type": "markdown",
   "metadata": {},
   "source": [
    "####  Southern Hemisphere - Wind Speed (mph) vs. Latitude Linear Regression"
   ]
  },
  {
   "cell_type": "code",
   "execution_count": 30,
   "metadata": {},
   "outputs": [],
   "source": [
    "# variables to hold x and y\n",
    "x_axis = southern_df['Lat']\n",
    "y_axis = southern_df['Wind Speed']\n",
    "\n",
    "# Perform a linear regression on year versus violent crime rate\n",
    "slope, intercept, rvalue, pvalue, std_err = stats.linregress(x_axis, y_axis)\n",
    "\n",
    "# regression equation\n",
    "fit = x_axis * slope + intercept\n",
    "\n",
    "# create the text of the line equation for slope intercept equation\n",
    "line_eq = \"y = \" + str(round(slope,2)) + \"x + \" + str(round(intercept,2))"
   ]
  },
  {
   "cell_type": "code",
   "execution_count": 31,
   "metadata": {},
   "outputs": [
    {
     "data": {
      "image/png": "[encoded data removed]",
      "text/plain": [
       "<Figure size 432x288 with 1 Axes>"
      ]
     },
     "metadata": {
      "needs_background": "light"
     },
     "output_type": "display_data"
    },
    {
     "name": "stdout",
     "output_type": "stream",
     "text": [
      "The r-value is: 0.01594475070100974\n"
     ]
    }
   ],
   "source": [
    "# equations to print the scatter plot\n",
    "plt.scatter(x_axis,y_axis)\n",
    "plt.plot(x_axis,fit,\"--\",color=\"r\")\n",
    "plt.xlabel('Latitude')\n",
    "plt.ylabel('Wind Speed')\n",
    "plt.annotate(line_eq,(-50,25),fontsize=15,color=\"red\")\n",
    "plt.show()\n",
    "print(f\"The r-value is: {rvalue**2}\")"
   ]
  },
  {
   "cell_type": "code",
   "execution_count": null,
   "metadata": {},
   "outputs": [],
   "source": []
  }
 ],
 "metadata": {
  "anaconda-cloud": {},
  "kernel_info": {
   "name": "python3"
  },
  "kernelspec": {
   "display_name": "Python 3",
   "language": "python",
   "name": "python3"
  },
  "language_info": {
   "codemirror_mode": {
    "name": "ipython",
    "version": 3
   },
   "file_extension": ".py",
   "mimetype": "text/x-python",
   "name": "python",
   "nbconvert_exporter": "python",
   "pygments_lexer": "ipython3",
   "version": "3.8.5"
  },
  "latex_envs": {
   "LaTeX_envs_menu_present": true,
   "autoclose": false,
   "autocomplete": true,
   "bibliofile": "biblio.bib",
   "cite_by": "apalike",
   "current_citInitial": 1,
   "eqLabelWithNumbers": true,
   "eqNumInitial": 1,
   "hotkeys": {
    "equation": "Ctrl-E",
    "itemize": "Ctrl-I"
   },
   "labels_anchors": false,
   "latex_user_defs": false,
   "report_style_numbering": false,
   "user_envs_cfg": false
  },
  "nteract": {
   "version": "0.12.3"
  }
 },
 "nbformat": 4,
 "nbformat_minor": 2
}
